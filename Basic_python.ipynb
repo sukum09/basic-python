{
  "nbformat": 4,
  "nbformat_minor": 0,
  "metadata": {
    "colab": {
      "provenance": []
    },
    "kernelspec": {
      "name": "python3",
      "display_name": "Python 3"
    },
    "language_info": {
      "name": "python"
    }
  },
  "cells": [
    {
      "cell_type": "code",
      "execution_count": null,
      "metadata": {
        "id": "eLN9i3Jn5rRE"
      },
      "outputs": [],
      "source": []
    },
    {
      "cell_type": "markdown",
      "source": [
        "*Python Basics Questions*"
      ],
      "metadata": {
        "id": "xs06nzxr7sLS"
      }
    },
    {
      "cell_type": "markdown",
      "source": [
        "1) What is Python, and why is it popular ?\n",
        "\n",
        "ans-\tPython is a programming language that is easy to understand and write, making it a popular choice among developers and programmers.\n"
      ],
      "metadata": {
        "id": "2J9l3EPm6Fr5"
      }
    },
    {
      "cell_type": "markdown",
      "source": [
        "2) What is an interpreter in Python ?\n",
        "\n",
        "ans- \tAn Interpreter is software of Python. It can directly execute via written instruction and it execute the code line by line."
      ],
      "metadata": {
        "id": "O7B_lWYn9E0U"
      }
    },
    {
      "cell_type": "markdown",
      "source": [
        "3)What are pre-defined keywords in Python ?\n",
        "\n",
        "ans- \tIn Python, Keywords are predefined reserved words that have specific purpose and hold a special meaning in Python."
      ],
      "metadata": {
        "id": "1J5e_1jP9fsz"
      }
    },
    {
      "cell_type": "markdown",
      "source": [
        "4)Can keywords be used as variable names ?\n",
        "\n",
        "ans -\tNo, Keywords cannot be used as variable names, because Keywords are reserved words in Python."
      ],
      "metadata": {
        "id": "xeJOq-4l9pV6"
      }
    },
    {
      "cell_type": "markdown",
      "source": [
        "5)What is mutability in Python ?\n",
        "\n",
        "ans - Mutability is property of objects in python. It is changeable objects or container. it can have changed, modified and updated without creating a new object."
      ],
      "metadata": {
        "id": "DHxYTwA893F5"
      }
    },
    {
      "cell_type": "markdown",
      "source": [
        "6)Why are lists mutable, but tuples are immutable ?\n",
        "\n",
        "Ans- \tBecause mutable can be changed and modified after creation but immutable, it cannot be changed or modified after initial creation."
      ],
      "metadata": {
        "id": "o9TBxsF5-A7C"
      }
    },
    {
      "cell_type": "markdown",
      "source": [
        "7)What is the difference between “==” and “is” operators in Python ?\n",
        "\n",
        "Ans-\tThe “==” is a comparison operator, it uses between two value for compare, but the “Is” defined two variable refer to the same object in memory."
      ],
      "metadata": {
        "id": "Mt2WlJji-NCP"
      }
    },
    {
      "cell_type": "markdown",
      "source": [
        "8)What are logical operators in Python ?\n",
        "\n",
        "Ans - 8)\tThe logical operators are used to combine or modify conditional statement, they allow to create more complex condition. There are three primary logical operators “ AND , OR , NOT “."
      ],
      "metadata": {
        "id": "TOxBAosT-iV2"
      }
    },
    {
      "cell_type": "markdown",
      "source": [
        "9)What is type casting in Python\n",
        "\n",
        "Ans - \tThe type casting is a process of conversion. It can be convert a data type to different data type. Example – we can convert a sting to integer or a float to sting."
      ],
      "metadata": {
        "id": "GAjnel5j-1FN"
      }
    },
    {
      "cell_type": "markdown",
      "source": [
        "10)What is the difference between implicit and explicit type casting\n",
        "?\n",
        "\n",
        "Ans -\tThe Explicit Type Casting, it can be programing manually. While processing more control over the type conversion. It required more code but offers more clarity and control.                          The Implicit Type Casting, It works automatic. While processing less control over the type conversion. User needs to handle very carefully for expected results."
      ],
      "metadata": {
        "id": "mz7NEdsF_CfE"
      }
    },
    {
      "cell_type": "markdown",
      "source": [
        "11)What is the purpose of conditional statements in Python ?\n",
        "\n",
        "Ans - 11)\tConditional statements in Python are used to execute certain blocks of code based on specific conditions. These statements help control the flow of a program, making it behave differently in different situations."
      ],
      "metadata": {
        "id": "AsnA2Xlc_SSO"
      }
    },
    {
      "cell_type": "markdown",
      "source": [
        "12) How does the elif statement work ?\n",
        "\n",
        "Ans- 12)\tThe if-else statement is used to execute both the true part and the false part of a given condition. If the condition is true, the if block code is executed and if the condition is false, the else block code is executed."
      ],
      "metadata": {
        "id": "5Pm4J8pj_d6T"
      }
    },
    {
      "cell_type": "markdown",
      "source": [
        "13)What is the difference between for and while loops ?\n",
        "\n",
        "Ans - 13)\tA for loop is used when you know how many times you want to repeat something. A while loop is used when you want to keep repeating something until a certain condition is no longer true.                                                                                                                    For loops are good for going through lists or doing something a set number of times.\n",
        "While loops are better when you don’t know in advance how many times the code needs to run.\n",
        "\n"
      ],
      "metadata": {
        "id": "ljk0pyvL_m6q"
      }
    },
    {
      "cell_type": "markdown",
      "source": [
        "14) Describe a scenario where a while loop is more suitable than a for loop?\n",
        "Ans -"
      ],
      "metadata": {
        "id": "KM8c1mq5_xga"
      }
    },
    {
      "cell_type": "markdown",
      "source": [],
      "metadata": {
        "id": "wrinzz8gUdJ7"
      }
    },
    {
      "cell_type": "markdown",
      "source": [
        "Practical Questions"
      ],
      "metadata": {
        "id": "yV-dy_sd__NZ"
      }
    },
    {
      "cell_type": "markdown",
      "source": [
        "1) Write a Python program to print \"Hello, World!\" ?"
      ],
      "metadata": {
        "id": "a-Byugw8Abg_"
      }
    },
    {
      "cell_type": "code",
      "source": [
        "print(\"Hello world\")"
      ],
      "metadata": {
        "colab": {
          "base_uri": "https://localhost:8080/"
        },
        "id": "T7Aax-CmAZtd",
        "outputId": "0e323c3e-48a7-4b20-c05f-1c0eb8b1ecb8"
      },
      "execution_count": null,
      "outputs": [
        {
          "output_type": "stream",
          "name": "stdout",
          "text": [
            "Hello world\n"
          ]
        }
      ]
    },
    {
      "cell_type": "markdown",
      "source": [
        "2)Write a Python program that displays your name and age ?"
      ],
      "metadata": {
        "id": "B9E-RSUXbPOA"
      }
    },
    {
      "cell_type": "code",
      "source": [
        "user_input = input(\"please enter your name: \")\n",
        "user_input = input(\"please enteryour age: \")\n",
        "print(user_input)\n"
      ],
      "metadata": {
        "colab": {
          "base_uri": "https://localhost:8080/"
        },
        "id": "wh7ZYxctBN_V",
        "outputId": "c243e112-fb0a-4dc2-c3fd-42e2200bad70"
      },
      "execution_count": null,
      "outputs": [
        {
          "output_type": "stream",
          "name": "stdout",
          "text": [
            "please enter your name: sudhir kumar\n",
            "please enteryour age: 30\n",
            "30\n"
          ]
        }
      ]
    },
    {
      "cell_type": "markdown",
      "source": [
        "3)Write code to print all the pre-defined keywords in Python using the keyword library?"
      ],
      "metadata": {
        "id": "YD7Jn0nkc3vC"
      }
    },
    {
      "cell_type": "code",
      "source": [
        "help(\"keywords\")"
      ],
      "metadata": {
        "colab": {
          "base_uri": "https://localhost:8080/"
        },
        "id": "RivakEr5Fnb9",
        "outputId": "db52625b-80dc-4a6a-e4d4-5a16fbe20b11"
      },
      "execution_count": null,
      "outputs": [
        {
          "output_type": "stream",
          "name": "stdout",
          "text": [
            "\n",
            "Here is a list of the Python keywords.  Enter any keyword to get more help.\n",
            "\n",
            "False               class               from                or\n",
            "None                continue            global              pass\n",
            "True                def                 if                  raise\n",
            "and                 del                 import              return\n",
            "as                  elif                in                  try\n",
            "assert              else                is                  while\n",
            "async               except              lambda              with\n",
            "await               finally             nonlocal            yield\n",
            "break               for                 not                 \n",
            "\n"
          ]
        }
      ]
    },
    {
      "cell_type": "code",
      "source": [
        "if 3 > 2:\n",
        "  print(\"greater\")"
      ],
      "metadata": {
        "id": "Gok0Ad2rdJq4",
        "colab": {
          "base_uri": "https://localhost:8080/"
        },
        "outputId": "ea43c7d0-16d1-4a5d-d747-c49c8c4c1ac8"
      },
      "execution_count": null,
      "outputs": [
        {
          "output_type": "stream",
          "name": "stdout",
          "text": [
            "greater\n"
          ]
        }
      ]
    },
    {
      "cell_type": "code",
      "source": [
        "x = 6\n",
        "y = 6\n",
        "if x == 6:\n",
        "  print(\"equel\")\n",
        "elif x > 6:\n",
        "    print(\"greater\")\n",
        "else:\n",
        "  print(\"lower\")\n",
        "\n"
      ],
      "metadata": {
        "colab": {
          "base_uri": "https://localhost:8080/"
        },
        "id": "JWKNAQBZHGLY",
        "outputId": "c4af9081-3f90-43c2-e891-66087fe00851"
      },
      "execution_count": null,
      "outputs": [
        {
          "output_type": "stream",
          "name": "stdout",
          "text": [
            "equel\n"
          ]
        }
      ]
    },
    {
      "cell_type": "markdown",
      "source": [
        "4)Write a program that checks if a given word is a Python keyword."
      ],
      "metadata": {
        "id": "1GQKvlCJA9Kx"
      }
    },
    {
      "cell_type": "code",
      "source": [
        "import keyword\n",
        "s=input(\"enter any word: \")\n",
        "if keyword.iskeyword(s):\n",
        "  print('s, is a keyword')\n",
        "else:\n",
        "  print('s, is not a keyword')"
      ],
      "metadata": {
        "colab": {
          "base_uri": "https://localhost:8080/"
        },
        "id": "ISQun6mAAJXo",
        "outputId": "4ea7b974-a860-4818-c4de-ec08ed4dd86d"
      },
      "execution_count": null,
      "outputs": [
        {
          "output_type": "stream",
          "name": "stdout",
          "text": [
            "enter any word: class\n",
            "s, is a keyword\n"
          ]
        }
      ]
    },
    {
      "cell_type": "markdown",
      "source": [
        "5)Create a list and tuple in Python, and demonstrate how attempting to change an element works differently\n",
        "for each."
      ],
      "metadata": {
        "id": "zPek6mvjKv9w"
      }
    },
    {
      "cell_type": "markdown",
      "source": [
        "(I)list"
      ],
      "metadata": {
        "id": "VmpdyRoxP97Y"
      }
    },
    {
      "cell_type": "code",
      "source": [
        "store_list1 = [\"pencil\",\"bule pen\",\"black pen\",\"whitner\",\"5\",\"false\"]\n",
        "type(store_list1)\n"
      ],
      "metadata": {
        "colab": {
          "base_uri": "https://localhost:8080/"
        },
        "id": "j73dMny3KAoI",
        "outputId": "516fe2f9-b776-4d30-8b54-c99f8d5acdce"
      },
      "execution_count": null,
      "outputs": [
        {
          "output_type": "execute_result",
          "data": {
            "text/plain": [
              "list"
            ]
          },
          "metadata": {},
          "execution_count": 47
        }
      ]
    },
    {
      "cell_type": "code",
      "source": [
        "store_list1 = [\"pencil\",\"bule pen\",\"black pen\",\"whitner\",\"5\",\"false\"]\n",
        "store_list1.append(\"red pen\")\n",
        "print(store_list1)"
      ],
      "metadata": {
        "colab": {
          "base_uri": "https://localhost:8080/"
        },
        "id": "kGOF4YmzOlgW",
        "outputId": "b3504606-bd1d-487e-9e1a-7a39cd4963fc"
      },
      "execution_count": null,
      "outputs": [
        {
          "output_type": "stream",
          "name": "stdout",
          "text": [
            "['pencil', 'bule pen', 'black pen', 'whitner', '5', 'false', 'red pen']\n"
          ]
        }
      ]
    },
    {
      "cell_type": "code",
      "source": [
        "store_list1 = [\"pencil\",\"bule pen\",\"black pen\",\"whitner\",\"5\",\"false\"]\n",
        "del store_list1[5]\n",
        "print(store_list1)"
      ],
      "metadata": {
        "colab": {
          "base_uri": "https://localhost:8080/"
        },
        "id": "ojequEEMPWlD",
        "outputId": "2af9af8c-a1d2-4b0b-f327-024a374b9d3a"
      },
      "execution_count": null,
      "outputs": [
        {
          "output_type": "stream",
          "name": "stdout",
          "text": [
            "['pencil', 'bule pen', 'black pen', 'whitner', '5']\n"
          ]
        }
      ]
    },
    {
      "cell_type": "markdown",
      "source": [
        "(II)TUPLE"
      ],
      "metadata": {
        "id": "5JDH2lhNQBpZ"
      }
    },
    {
      "cell_type": "code",
      "source": [
        "my_tuple = (\"mango\",\"ogange\",\"grapes\",\"papaya\",\"coconut\",5)\n",
        "print(my_tuple)"
      ],
      "metadata": {
        "colab": {
          "base_uri": "https://localhost:8080/"
        },
        "id": "SHXMXVmLQ5L0",
        "outputId": "9808f4d7-fb68-4e78-d557-cca7a6c5c980"
      },
      "execution_count": null,
      "outputs": [
        {
          "output_type": "stream",
          "name": "stdout",
          "text": [
            "('mango', 'ogange', 'grapes', 'papaya', 'coconut', 5)\n"
          ]
        }
      ]
    },
    {
      "cell_type": "code",
      "source": [
        "tuple1 = (\"ram\",\"shyam\",\"ramu\",\"raju\",\"tapu\")\n",
        "tuple2 = list(tuple1)\n",
        "tuple2.append(\"banana\")\n",
        "tuple1 = tuple(tuple2)\n",
        "print(tuple1)"
      ],
      "metadata": {
        "colab": {
          "base_uri": "https://localhost:8080/"
        },
        "id": "3fD9ft79TBDq",
        "outputId": "c798a011-283d-41fe-b357-6be0773416dd"
      },
      "execution_count": null,
      "outputs": [
        {
          "output_type": "stream",
          "name": "stdout",
          "text": [
            "('ram', 'shyam', 'ramu', 'raju', 'tapu', 'banana')\n"
          ]
        }
      ]
    },
    {
      "cell_type": "markdown",
      "source": [
        " 6)Write a function to demonstrate the behavior of mutable and immutable arguments"
      ],
      "metadata": {
        "id": "nVUruTDPYlCA"
      }
    },
    {
      "cell_type": "code",
      "source": [
        "tuple1 = (\"ram\",\"shyam\",\"ramu\",\"raju\",\"tapu\")\n",
        "tuple2 = list(tuple1)\n",
        "tuple2.remove(\"ramu\")\n",
        "tulpe1 = tuple(tuple2)\n",
        "print(tuple1)"
      ],
      "metadata": {
        "colab": {
          "base_uri": "https://localhost:8080/"
        },
        "id": "q-hEh1LrXCYI",
        "outputId": "2842ec58-b33b-411d-a82e-500ef78f1cc7"
      },
      "execution_count": null,
      "outputs": [
        {
          "output_type": "stream",
          "name": "stdout",
          "text": [
            "('ram', 'shyam', 'ramu', 'raju', 'tapu')\n"
          ]
        }
      ]
    },
    {
      "cell_type": "markdown",
      "source": [
        "7) Write a program that performs basic arithmetic operations on two user-input numbers"
      ],
      "metadata": {
        "id": "YJA-LeVbeA0P"
      }
    },
    {
      "cell_type": "code",
      "source": [
        "x = 7\n",
        "y = 5\n",
        "add = x*y\n",
        "print(add)"
      ],
      "metadata": {
        "colab": {
          "base_uri": "https://localhost:8080/"
        },
        "id": "Gm8DD4umh34R",
        "outputId": "acd47955-923b-4f9f-dadf-82acca676d41"
      },
      "execution_count": null,
      "outputs": [
        {
          "output_type": "stream",
          "name": "stdout",
          "text": [
            "35\n"
          ]
        }
      ]
    },
    {
      "cell_type": "markdown",
      "source": [
        "8) Write a program to demonstrate the use of logical operators."
      ],
      "metadata": {
        "id": "E81HLyGgkpmR"
      }
    },
    {
      "cell_type": "code",
      "source": [
        "False and True"
      ],
      "metadata": {
        "colab": {
          "base_uri": "https://localhost:8080/"
        },
        "id": "_blWphIXkxTj",
        "outputId": "47a63980-91db-4ba5-cc07-f429d90b27ae"
      },
      "execution_count": null,
      "outputs": [
        {
          "output_type": "execute_result",
          "data": {
            "text/plain": [
              "False"
            ]
          },
          "metadata": {},
          "execution_count": 95
        }
      ]
    },
    {
      "cell_type": "code",
      "source": [
        "False or True"
      ],
      "metadata": {
        "colab": {
          "base_uri": "https://localhost:8080/"
        },
        "id": "WAi2q-Z5lHE3",
        "outputId": "6ad9959a-e3dc-433a-9bf6-74acc66b7a92"
      },
      "execution_count": null,
      "outputs": [
        {
          "output_type": "execute_result",
          "data": {
            "text/plain": [
              "True"
            ]
          },
          "metadata": {},
          "execution_count": 96
        }
      ]
    },
    {
      "cell_type": "code",
      "source": [
        "True and True"
      ],
      "metadata": {
        "colab": {
          "base_uri": "https://localhost:8080/"
        },
        "id": "__ZWbvJklML2",
        "outputId": "881befac-b9c8-44b1-866c-32b01c269508"
      },
      "execution_count": null,
      "outputs": [
        {
          "output_type": "execute_result",
          "data": {
            "text/plain": [
              "True"
            ]
          },
          "metadata": {},
          "execution_count": 98
        }
      ]
    },
    {
      "cell_type": "markdown",
      "source": [
        "9)Write a Python program to convert user input from string to integer, float, and boolean types."
      ],
      "metadata": {
        "id": "QxFlb43DlUQW"
      }
    },
    {
      "cell_type": "markdown",
      "source": [
        "sring to integer"
      ],
      "metadata": {
        "id": "_36ntb6RuOrj"
      }
    },
    {
      "cell_type": "code",
      "source": [
        "x = \"6\"\n",
        "y = 7\n",
        "int(x)+y"
      ],
      "metadata": {
        "colab": {
          "base_uri": "https://localhost:8080/"
        },
        "id": "OEpR6VCmlbp2",
        "outputId": "59ef29de-5a99-4e87-a515-c21898eb305e"
      },
      "execution_count": null,
      "outputs": [
        {
          "output_type": "execute_result",
          "data": {
            "text/plain": [
              "13"
            ]
          },
          "metadata": {},
          "execution_count": 109
        }
      ]
    },
    {
      "cell_type": "code",
      "source": [
        "x = \"6\"\n",
        "print(type(x))\n",
        "print(type(int(x)))"
      ],
      "metadata": {
        "colab": {
          "base_uri": "https://localhost:8080/"
        },
        "id": "U0tj_DWiwuiG",
        "outputId": "6e4d6cd4-fd2b-413d-b665-2b820f0788ae"
      },
      "execution_count": null,
      "outputs": [
        {
          "output_type": "stream",
          "name": "stdout",
          "text": [
            "<class 'str'>\n",
            "<class 'int'>\n"
          ]
        }
      ]
    },
    {
      "cell_type": "markdown",
      "source": [
        "float to integer"
      ],
      "metadata": {
        "id": "iGWNKhkfu5TV"
      }
    },
    {
      "cell_type": "code",
      "source": [
        "x = 6.5\n",
        "print(x)\n",
        "print(type(x))\n",
        "print(type(int(x)))\n",
        "int(x)\n",
        "\n"
      ],
      "metadata": {
        "colab": {
          "base_uri": "https://localhost:8080/"
        },
        "id": "QoVVPk3ir3uZ",
        "outputId": "32d515f7-8acc-444a-aa03-dda471b2dce2"
      },
      "execution_count": null,
      "outputs": [
        {
          "output_type": "stream",
          "name": "stdout",
          "text": [
            "6.5\n",
            "<class 'float'>\n",
            "<class 'int'>\n"
          ]
        },
        {
          "output_type": "execute_result",
          "data": {
            "text/plain": [
              "6"
            ]
          },
          "metadata": {},
          "execution_count": 116
        }
      ]
    },
    {
      "cell_type": "code",
      "source": [
        "y = 8.4\n",
        "type(y)\n",
        "float_value = int(y)\n",
        "type(float_value)"
      ],
      "metadata": {
        "colab": {
          "base_uri": "https://localhost:8080/"
        },
        "id": "fA-ofJJf0SOS",
        "outputId": "833a9d51-118a-470a-eab6-13a9f6c170c4"
      },
      "execution_count": null,
      "outputs": [
        {
          "output_type": "execute_result",
          "data": {
            "text/plain": [
              "int"
            ]
          },
          "metadata": {},
          "execution_count": 120
        }
      ]
    },
    {
      "cell_type": "code",
      "source": [
        "bool(\"5\")"
      ],
      "metadata": {
        "colab": {
          "base_uri": "https://localhost:8080/"
        },
        "id": "7s26CdV25T0k",
        "outputId": "5dd5b52e-94ce-4564-fddc-a5437d8a4655"
      },
      "execution_count": null,
      "outputs": [
        {
          "output_type": "execute_result",
          "data": {
            "text/plain": [
              "True"
            ]
          },
          "metadata": {},
          "execution_count": 121
        }
      ]
    },
    {
      "cell_type": "code",
      "source": [
        "bool(0)"
      ],
      "metadata": {
        "colab": {
          "base_uri": "https://localhost:8080/"
        },
        "id": "r-LXqmzG5ZBZ",
        "outputId": "8ae27d08-7eb2-4618-c9a2-80a0420b45e8"
      },
      "execution_count": null,
      "outputs": [
        {
          "output_type": "execute_result",
          "data": {
            "text/plain": [
              "False"
            ]
          },
          "metadata": {},
          "execution_count": 122
        }
      ]
    },
    {
      "cell_type": "code",
      "source": [
        "bool(-6)"
      ],
      "metadata": {
        "colab": {
          "base_uri": "https://localhost:8080/"
        },
        "id": "3315OJ7v5fgl",
        "outputId": "9befc010-442e-4f30-d006-6181b7327a98"
      },
      "execution_count": null,
      "outputs": [
        {
          "output_type": "execute_result",
          "data": {
            "text/plain": [
              "True"
            ]
          },
          "metadata": {},
          "execution_count": 123
        }
      ]
    },
    {
      "cell_type": "markdown",
      "source": [
        "10)Write code to demonstrate type casting with list elements"
      ],
      "metadata": {
        "id": "qlQb5lCZ5vIZ"
      }
    },
    {
      "cell_type": "code",
      "source": [
        "x = [\"1\",\"2\",\"3\",\"4\",\"5\",\"6\"]\n",
        "list(map(int, x))"
      ],
      "metadata": {
        "colab": {
          "base_uri": "https://localhost:8080/"
        },
        "id": "773ZhPjC5zq1",
        "outputId": "424bb41a-dec3-4537-b327-16158525bd04"
      },
      "execution_count": null,
      "outputs": [
        {
          "output_type": "execute_result",
          "data": {
            "text/plain": [
              "[1, 2, 3, 4, 5, 6]"
            ]
          },
          "metadata": {},
          "execution_count": 125
        }
      ]
    },
    {
      "cell_type": "markdown",
      "source": [
        "11) Write a program that checks if a number is positive, negative, or zero"
      ],
      "metadata": {
        "id": "YWI3zab97VsK"
      }
    },
    {
      "cell_type": "code",
      "source": [
        "x=int(input(\"enter number\"))\n",
        "if x>0:\n",
        "  print(\"Positive\")\n",
        "elif x<0:\n",
        "   print(\"Negative\")\n",
        "else:\n",
        "   print(\"zero\")\n"
      ],
      "metadata": {
        "colab": {
          "base_uri": "https://localhost:8080/"
        },
        "id": "k5ZoqAFE7eLz",
        "outputId": "3f229032-a04c-4735-cbbd-f2b37d8ec41b"
      },
      "execution_count": null,
      "outputs": [
        {
          "output_type": "stream",
          "name": "stdout",
          "text": [
            "enter number5\n",
            "Positive\n"
          ]
        }
      ]
    },
    {
      "cell_type": "markdown",
      "source": [
        "12)Write a for loop to print numbers from 1 to 10."
      ],
      "metadata": {
        "id": "7Q1UINAt-fjh"
      }
    },
    {
      "cell_type": "code",
      "source": [
        "for i in range(1,11):\n",
        "  print(i)"
      ],
      "metadata": {
        "colab": {
          "base_uri": "https://localhost:8080/"
        },
        "id": "-eNs5ldA-mdv",
        "outputId": "30b58126-87d4-4e9c-f403-7c6c70fd9071"
      },
      "execution_count": null,
      "outputs": [
        {
          "output_type": "stream",
          "name": "stdout",
          "text": [
            "1\n",
            "2\n",
            "3\n",
            "4\n",
            "5\n",
            "6\n",
            "7\n",
            "8\n",
            "9\n",
            "10\n"
          ]
        }
      ]
    },
    {
      "cell_type": "markdown",
      "source": [
        "13)Write a Python program to find the sum of all even numbers between 1 and 50."
      ],
      "metadata": {
        "id": "l0OFBiN9Hbhi"
      }
    },
    {
      "cell_type": "code",
      "source": [
        "i=1\n",
        "sum=0\n",
        "while(i<=100):\n",
        "  if(i%2==0):\n",
        "    sum=sum+i\n",
        "  i=i+1\n",
        "  print(\"sum of even numbers from 1 to 100 =\",sum)"
      ],
      "metadata": {
        "colab": {
          "base_uri": "https://localhost:8080/"
        },
        "id": "ZujRLPFjHjIK",
        "outputId": "b9aff096-4f50-49ea-e1e0-eab286118639"
      },
      "execution_count": null,
      "outputs": [
        {
          "output_type": "stream",
          "name": "stdout",
          "text": [
            "sum of even numbers from 1 to 100 = 0\n",
            "sum of even numbers from 1 to 100 = 2\n",
            "sum of even numbers from 1 to 100 = 2\n",
            "sum of even numbers from 1 to 100 = 6\n",
            "sum of even numbers from 1 to 100 = 6\n",
            "sum of even numbers from 1 to 100 = 12\n",
            "sum of even numbers from 1 to 100 = 12\n",
            "sum of even numbers from 1 to 100 = 20\n",
            "sum of even numbers from 1 to 100 = 20\n",
            "sum of even numbers from 1 to 100 = 30\n",
            "sum of even numbers from 1 to 100 = 30\n",
            "sum of even numbers from 1 to 100 = 42\n",
            "sum of even numbers from 1 to 100 = 42\n",
            "sum of even numbers from 1 to 100 = 56\n",
            "sum of even numbers from 1 to 100 = 56\n",
            "sum of even numbers from 1 to 100 = 72\n",
            "sum of even numbers from 1 to 100 = 72\n",
            "sum of even numbers from 1 to 100 = 90\n",
            "sum of even numbers from 1 to 100 = 90\n",
            "sum of even numbers from 1 to 100 = 110\n",
            "sum of even numbers from 1 to 100 = 110\n",
            "sum of even numbers from 1 to 100 = 132\n",
            "sum of even numbers from 1 to 100 = 132\n",
            "sum of even numbers from 1 to 100 = 156\n",
            "sum of even numbers from 1 to 100 = 156\n",
            "sum of even numbers from 1 to 100 = 182\n",
            "sum of even numbers from 1 to 100 = 182\n",
            "sum of even numbers from 1 to 100 = 210\n",
            "sum of even numbers from 1 to 100 = 210\n",
            "sum of even numbers from 1 to 100 = 240\n",
            "sum of even numbers from 1 to 100 = 240\n",
            "sum of even numbers from 1 to 100 = 272\n",
            "sum of even numbers from 1 to 100 = 272\n",
            "sum of even numbers from 1 to 100 = 306\n",
            "sum of even numbers from 1 to 100 = 306\n",
            "sum of even numbers from 1 to 100 = 342\n",
            "sum of even numbers from 1 to 100 = 342\n",
            "sum of even numbers from 1 to 100 = 380\n",
            "sum of even numbers from 1 to 100 = 380\n",
            "sum of even numbers from 1 to 100 = 420\n",
            "sum of even numbers from 1 to 100 = 420\n",
            "sum of even numbers from 1 to 100 = 462\n",
            "sum of even numbers from 1 to 100 = 462\n",
            "sum of even numbers from 1 to 100 = 506\n",
            "sum of even numbers from 1 to 100 = 506\n",
            "sum of even numbers from 1 to 100 = 552\n",
            "sum of even numbers from 1 to 100 = 552\n",
            "sum of even numbers from 1 to 100 = 600\n",
            "sum of even numbers from 1 to 100 = 600\n",
            "sum of even numbers from 1 to 100 = 650\n",
            "sum of even numbers from 1 to 100 = 650\n",
            "sum of even numbers from 1 to 100 = 702\n",
            "sum of even numbers from 1 to 100 = 702\n",
            "sum of even numbers from 1 to 100 = 756\n",
            "sum of even numbers from 1 to 100 = 756\n",
            "sum of even numbers from 1 to 100 = 812\n",
            "sum of even numbers from 1 to 100 = 812\n",
            "sum of even numbers from 1 to 100 = 870\n",
            "sum of even numbers from 1 to 100 = 870\n",
            "sum of even numbers from 1 to 100 = 930\n",
            "sum of even numbers from 1 to 100 = 930\n",
            "sum of even numbers from 1 to 100 = 992\n",
            "sum of even numbers from 1 to 100 = 992\n",
            "sum of even numbers from 1 to 100 = 1056\n",
            "sum of even numbers from 1 to 100 = 1056\n",
            "sum of even numbers from 1 to 100 = 1122\n",
            "sum of even numbers from 1 to 100 = 1122\n",
            "sum of even numbers from 1 to 100 = 1190\n",
            "sum of even numbers from 1 to 100 = 1190\n",
            "sum of even numbers from 1 to 100 = 1260\n",
            "sum of even numbers from 1 to 100 = 1260\n",
            "sum of even numbers from 1 to 100 = 1332\n",
            "sum of even numbers from 1 to 100 = 1332\n",
            "sum of even numbers from 1 to 100 = 1406\n",
            "sum of even numbers from 1 to 100 = 1406\n",
            "sum of even numbers from 1 to 100 = 1482\n",
            "sum of even numbers from 1 to 100 = 1482\n",
            "sum of even numbers from 1 to 100 = 1560\n",
            "sum of even numbers from 1 to 100 = 1560\n",
            "sum of even numbers from 1 to 100 = 1640\n",
            "sum of even numbers from 1 to 100 = 1640\n",
            "sum of even numbers from 1 to 100 = 1722\n",
            "sum of even numbers from 1 to 100 = 1722\n",
            "sum of even numbers from 1 to 100 = 1806\n",
            "sum of even numbers from 1 to 100 = 1806\n",
            "sum of even numbers from 1 to 100 = 1892\n",
            "sum of even numbers from 1 to 100 = 1892\n",
            "sum of even numbers from 1 to 100 = 1980\n",
            "sum of even numbers from 1 to 100 = 1980\n",
            "sum of even numbers from 1 to 100 = 2070\n",
            "sum of even numbers from 1 to 100 = 2070\n",
            "sum of even numbers from 1 to 100 = 2162\n",
            "sum of even numbers from 1 to 100 = 2162\n",
            "sum of even numbers from 1 to 100 = 2256\n",
            "sum of even numbers from 1 to 100 = 2256\n",
            "sum of even numbers from 1 to 100 = 2352\n",
            "sum of even numbers from 1 to 100 = 2352\n",
            "sum of even numbers from 1 to 100 = 2450\n",
            "sum of even numbers from 1 to 100 = 2450\n",
            "sum of even numbers from 1 to 100 = 2550\n"
          ]
        }
      ]
    },
    {
      "cell_type": "markdown",
      "source": [
        "14) Write a program to reverse a string using a while loop."
      ],
      "metadata": {
        "id": "Htqtf-xJLnLQ"
      }
    },
    {
      "cell_type": "code",
      "source": [
        "s=input('enter some string to reverse:')\n",
        "output=''\n",
        "i=len(s)-1\n",
        "while i>=0:\n",
        "  output=output+s[i]\n",
        "  i=i-1\n",
        "  print(output)"
      ],
      "metadata": {
        "colab": {
          "base_uri": "https://localhost:8080/"
        },
        "id": "ntS2zoe7Lr88",
        "outputId": "4bb5c5cd-2c44-4076-eef9-035816fc737f"
      },
      "execution_count": null,
      "outputs": [
        {
          "output_type": "stream",
          "name": "stdout",
          "text": [
            "enter some string to reverse:prashant\n",
            "t\n",
            "tn\n",
            "tna\n",
            "tnah\n",
            "tnahs\n",
            "tnahsa\n",
            "tnahsar\n",
            "tnahsarp\n"
          ]
        }
      ]
    },
    {
      "cell_type": "markdown",
      "source": [
        "15) Write a Python program to calculate the factorial of a number provided by the user using a while loop."
      ],
      "metadata": {
        "id": "v07fA8OtOm88"
      }
    },
    {
      "cell_type": "code",
      "source": [
        "num =int(input(\"enter a number : \"))\n",
        "fact = 1\n",
        "\n",
        "while(num !=0):\n",
        "  fact = fact * num\n",
        "  num = num - 1\n",
        "  print(fact)"
      ],
      "metadata": {
        "colab": {
          "base_uri": "https://localhost:8080/"
        },
        "id": "1TIEkspzOuN7",
        "outputId": "d8663dc5-0508-49b4-da0a-a734a6cedf76"
      },
      "execution_count": null,
      "outputs": [
        {
          "output_type": "stream",
          "name": "stdout",
          "text": [
            "enter a number : 8\n",
            "8\n",
            "56\n",
            "336\n",
            "1680\n",
            "6720\n",
            "20160\n",
            "40320\n",
            "40320\n"
          ]
        }
      ]
    }
  ]
}